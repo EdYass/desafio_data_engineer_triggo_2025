{
 "cells": [
  {
   "cell_type": "markdown",
   "id": "1451e8b4",
   "metadata": {},
   "source": [
    "#======Importação dos Dados======#\n",
    "Nesta etapa, foi realizada a leitura de todos os arquivos CSV da base de dados do Olist, localizados na pasta data/raw/.\n",
    "Utilizei um dicionário (file_map) para mapear nomes intuitivos aos nomes dos arquivos. Em seguida, carreguei os dados com pandas.read_csv() e armazenamos os DataFrames em um dicionário (dfs) para facilitar o acesso e manipulação.\n",
    "Por fim, foi exibida as primeiras linhas de cada tabela para verificar se os dados foram carregados corretamente."
   ]
  },
  {
   "cell_type": "code",
   "execution_count": null,
   "id": "00c3fdf8",
   "metadata": {},
   "outputs": [],
   "source": [
    "import pandas as pd\n",
    "import os\n",
    "\n",
    "#===Definindo o caminho dos arquivos brutos===#\n",
    "raw_path = '../data/raw/'\n",
    "\n",
    "#===Mapeando os arquivos em um dicionário para facilitar o carregamento===#\n",
    "file_map = {\n",
    "    \"orders\": \"olist_orders_dataset.csv\",\n",
    "    \"customers\": \"olist_customers_dataset.csv\",\n",
    "    \"products\": \"olist_products_dataset.csv\",\n",
    "    \"sellers\": \"olist_sellers_dataset.csv\",\n",
    "    \"order_items\": \"olist_order_items_dataset.csv\",\n",
    "    \"order_reviews\": \"olist_order_reviews_dataset.csv\",\n",
    "    \"order_payments\": \"olist_order_payments_dataset.csv\",\n",
    "    \"geolocation\": \"olist_geolocation_dataset.csv\",\n",
    "    \"product_translation\": \"product_category_name_translation.csv\"\n",
    "}\n",
    "\n",
    "#===Carregando todos os arquivos em dataframes===#\n",
    "dfs = {name: pd.read_csv(os.path.join(raw_path, filename)) for name, filename in file_map.items()}\n",
    "\n",
    "#===Exibindo os primeiros registros de cada dataset===#\n",
    "for name, df in dfs.items():\n",
    "    print(f\"\\n{name.upper()}:\\n\")\n",
    "    display(df.head())\n"
   ]
  }
 ],
 "metadata": {
  "kernelspec": {
   "display_name": "Python 3",
   "language": "python",
   "name": "python3"
  },
  "language_info": {
   "codemirror_mode": {
    "name": "ipython",
    "version": 3
   },
   "file_extension": ".py",
   "mimetype": "text/x-python",
   "name": "python",
   "nbconvert_exporter": "python",
   "pygments_lexer": "ipython3",
   "version": "3.13.3"
  }
 },
 "nbformat": 4,
 "nbformat_minor": 5
}
