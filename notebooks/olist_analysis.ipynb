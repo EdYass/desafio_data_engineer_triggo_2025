{
 "cells": [
  {
   "cell_type": "markdown",
   "id": "1451e8b4",
   "metadata": {},
   "source": [
    "#======Vizualização dos Dados======#\n",
    "\n",
    "Nesta etapa, foi realizada a leitura de todos os arquivos CSV da base de dados do Olist, localizados na pasta data/raw/.\n",
    "Utilizei um dicionário (file_map) para mapear nomes intuitivos aos nomes dos arquivos. Em seguida, carreguei os dados com pandas.read_csv() e armazenamos os DataFrames em um dicionário (dfs) para facilitar o acesso e manipulação. Por fim, foi exibida as primeiras linhas de cada tabela para verificar se os dados foram carregados corretamente."
   ]
  },
  {
   "cell_type": "code",
   "execution_count": null,
   "id": "00c3fdf8",
   "metadata": {},
   "outputs": [],
   "source": [
    "import pandas as pd\n",
    "import os\n",
    "\n",
    "#===Definindo o caminho dos arquivos brutos===#\n",
    "raw_path = '../data/raw/'\n",
    "\n",
    "#===Mapeando os arquivos em um dicionário para facilitar o carregamento===#\n",
    "file_map = {\n",
    "    \"orders\": \"olist_orders_dataset.csv\",\n",
    "    \"customers\": \"olist_customers_dataset.csv\",\n",
    "    \"products\": \"olist_products_dataset.csv\",\n",
    "    \"sellers\": \"olist_sellers_dataset.csv\",\n",
    "    \"order_items\": \"olist_order_items_dataset.csv\",\n",
    "    \"order_reviews\": \"olist_order_reviews_dataset.csv\",\n",
    "    \"order_payments\": \"olist_order_payments_dataset.csv\",\n",
    "    \"geolocation\": \"olist_geolocation_dataset.csv\",\n",
    "    \"product_translation\": \"product_category_name_translation.csv\"\n",
    "}\n",
    "\n",
    "#===Carregando todos os arquivos em dataframes===#\n",
    "dfs = {name: pd.read_csv(os.path.join(raw_path, filename)) for name, filename in file_map.items()}\n",
    "\n",
    "#===Exibindo os primeiros registros de cada dataset===#\n",
    "for name, df in dfs.items():\n",
    "    print(f\"\\n{name.upper()}:\\n\")\n",
    "    display(df.head())\n"
   ]
  },
  {
   "cell_type": "markdown",
   "id": "9c510b40",
   "metadata": {},
   "source": [
    "#======Limpeza e Normalização dos Dados======#\n",
    "\n",
    "Nesta etapa, apliquei duas funções auxiliares para padronizar e limpar todos os DataFrames carregados:\n",
    "\n",
    "-normalize_columns(): transforma os nomes das colunas para minúsculo, substitui espaços e hífens por underscores (_), deixando o padrão mais limpo e consistente.\n",
    "\n",
    "-clean_df(): remove linhas duplicadas, linhas e colunas totalmente vazias.\n",
    "\n",
    "Após aplicar essas funções a todos os DataFrames, salvei os arquivos limpos na pasta data/processed/, organizando o fluxo de dados para etapas futuras da análise."
   ]
  },
  {
   "cell_type": "code",
   "execution_count": 4,
   "id": "a615d0b5",
   "metadata": {},
   "outputs": [],
   "source": [
    "#===Função que normaliza nomes de colunas===#\n",
    "def normalize_columns(df):\n",
    "    return df.rename(columns=lambda x: x.strip().lower().replace(\" \", \"_\").replace(\"-\", \"_\"))\n",
    "\n",
    "#===Função de limpeza básica\n",
    "def clean_df(df):\n",
    "    df = df.drop_duplicates()           #->Remove duplicatas\n",
    "    df = df.dropna(how='all')           #->Remove linhas totalmente vazias\n",
    "    df = df.dropna(axis=1, how='all')   #->Remove colunas totalmente vazias\n",
    "    return df\n",
    "\n",
    "#===Aplicando limpeza e normalização em todos os dataframes===#\n",
    "for name in dfs:\n",
    "    dfs[name] = normalize_columns(dfs[name])\n",
    "    dfs[name] = clean_df(dfs[name])\n",
    "\n",
    "#===Salvando os dados limpos em CSVs===#\n",
    "processed_path = \"../data/processed/\"\n",
    "os.makedirs(processed_path, exist_ok=True)\n",
    "\n",
    "for name, df in dfs.items():\n",
    "    df.to_csv(os.path.join(processed_path, f\"{name}.csv\"), index=False)\n"
   ]
  }
 ],
 "metadata": {
  "kernelspec": {
   "display_name": "Python 3",
   "language": "python",
   "name": "python3"
  },
  "language_info": {
   "codemirror_mode": {
    "name": "ipython",
    "version": 3
   },
   "file_extension": ".py",
   "mimetype": "text/x-python",
   "name": "python",
   "nbconvert_exporter": "python",
   "pygments_lexer": "ipython3",
   "version": "3.13.3"
  }
 },
 "nbformat": 4,
 "nbformat_minor": 5
}
